{
 "cells": [
  {
   "cell_type": "code",
   "execution_count": 1,
   "metadata": {},
   "outputs": [],
   "source": [
    "import pandas as pd\n",
    "import numpy as np\n",
    "from pandas_visual_analysis import VisualAnalysis\n",
    "import matplotlib.pyplot as plt\n",
    "import json\n",
    "from collections import OrderedDict\n",
    "import collections\n",
    "from datetime import date\n",
    "import time\n",
    "import csv\n",
    "from pandas import Series\n",
    "\n",
    "from sklearn.decomposition import PCA\n",
    "from sklearn.preprocessing import StandardScaler\n",
    "from sklearn.tree import DecisionTreeClassifier\n",
    "from sklearn.ensemble import RandomForestClassifier\n",
    "from sklearn import metrics\n",
    "from sklearn.metrics import accuracy_score, confusion_matrix, classification_report\n",
    "from sklearn.model_selection import train_test_split\n",
    "from sklearn.model_selection import GridSearchCV\n",
    "from xgboost import XGBClassifier\n",
    "import lightgbm as lgb"
   ]
  },
  {
   "cell_type": "code",
   "execution_count": 2,
   "metadata": {},
   "outputs": [
    {
     "name": "stdout",
     "output_type": "stream",
     "text": [
      "(104399, 44)\n",
      "(44736, 43)\n"
     ]
    }
   ],
   "source": [
    "df_train = pd.read_csv('./csv/abusingDetectionTrainDataset.csv')\n",
    "df_test = pd.read_csv('./csv/abusingDetectionTestDataset.csv')\n",
    "print(df_train.shape)\n",
    "print(df_test.shape)\n"
   ]
  },
  {
   "cell_type": "markdown",
   "metadata": {},
   "source": [
    "# Feature"
   ]
  },
  {
   "cell_type": "code",
   "execution_count": 3,
   "metadata": {
    "scrolled": false
   },
   "outputs": [
    {
     "name": "stdout",
     "output_type": "stream",
     "text": [
      "(104399, 35)\n",
      "(44736, 34)\n"
     ]
    }
   ],
   "source": [
    "# -- 삭제 -- \n",
    "# socialBooleanB, accountMetaAmountA, charSessionAmountB, tradeSessionAmountC, tradeSessionAmountE\n",
    "df_train = df_train.drop(['socialBooleanB', 'accountMetaAmountA', 'charSessionAmountB', 'tradeSessionAmountC', 'tradeSessionAmountE'], axis=1)\n",
    "df_test = df_test.drop(['socialBooleanB', 'accountMetaAmountA', 'charSessionAmountB', 'tradeSessionAmountC', 'tradeSessionAmountE'], axis=1)\n",
    "\n",
    "# logging_timestamp에서 시간단위로 새로운 컬럼 추가\n",
    "data_hour_train = pd.to_datetime(df_train['logging_timestamp']).dt.strftime('%H').astype(int)\n",
    "data_hour_train = data_hour_train.replace(0, 24)\n",
    "df_train['date_hour'] = data_hour_train\n",
    "\n",
    "data_hour_test = pd.to_datetime(df_test['logging_timestamp']).dt.strftime('%H').astype(int)\n",
    "data_hour_test = data_hour_test.replace(0, 24)\n",
    "df_test['date_hour'] = data_hour_test\n",
    "\n",
    "\n",
    "# tradeSessionAmount A, B, D  ==> tradeSessionAmount \n",
    "tradeSessionAmount_train = df_train['tradeSessionAmountA'] + df_train['tradeSessionAmountB'] + df_train['tradeSessionAmountD']\n",
    "df_train = df_train.drop(['tradeSessionAmountA', 'tradeSessionAmountB', 'tradeSessionAmountD'], axis=1)\n",
    "df_train['tradeSessionAmount'] = tradeSessionAmount_train\n",
    "\n",
    "tradeSessionAmount_test = df_test['tradeSessionAmountA'] + df_test['tradeSessionAmountB'] + df_test['tradeSessionAmountD']\n",
    "df_test = df_test.drop(['tradeSessionAmountA', 'tradeSessionAmountB', 'tradeSessionAmountD'], axis=1)\n",
    "df_test['tradeSessionAmount'] = tradeSessionAmount_test\n",
    "\n",
    "\n",
    "# charSessionAmountC, actionSessionAmountM 제거\n",
    "df_train = df_train.drop(['charSessionAmountC', 'actionSessionAmountM'], axis=1)\n",
    "df_test = df_test.drop(['charSessionAmountC', 'actionSessionAmountM'], axis=1)\n",
    "\n",
    "# socialSessionAmountB\n",
    "socialSessionAmountB_train = df_train['socialSessionAmountB']\n",
    "socialSessionAmountB_train = [i*10 if i == 0 else 0 for i in socialSessionAmountB_train]\n",
    "df_train = df_train.drop(['socialSessionAmountB'], axis=1)\n",
    "df_train['socialSessionAmountB'] = socialSessionAmountB_train\n",
    "\n",
    "socialSessionAmountB_test = df_test['socialSessionAmountB']\n",
    "socialSessionAmountB_test = [i*10 if i == 0 else 0 for i in socialSessionAmountB_test]\n",
    "df_test = df_test.drop(['socialSessionAmountB'], axis=1)\n",
    "df_test['socialSessionAmountB'] = socialSessionAmountB_test\n",
    "\n",
    "# logging_timestamp\n",
    "df_train = df_train.drop(['logging_timestamp'], axis=1)\n",
    "df_test = df_test.drop(['logging_timestamp'], axis=1)\n",
    "\n",
    "print(df_train.shape)\n",
    "print(df_test.shape)"
   ]
  },
  {
   "cell_type": "code",
   "execution_count": 4,
   "metadata": {
    "scrolled": true
   },
   "outputs": [],
   "source": [
    "# Data separation\n",
    "target_label = df_train['blocked'].values\n",
    "\n",
    "df_x_train, df_x_valid, y_train, y_valid = train_test_split(df_train, target_label, test_size=0.2, random_state=None)"
   ]
  },
  {
   "cell_type": "code",
   "execution_count": 5,
   "metadata": {},
   "outputs": [
    {
     "data": {
      "text/plain": [
       "((83519, 33), (20880, 33), (83519,), (20880,))"
      ]
     },
     "execution_count": 5,
     "metadata": {},
     "output_type": "execute_result"
    }
   ],
   "source": [
    "data_result_10 = pd.DataFrame(df_x_valid['newID'])\n",
    "data_result_10['res'] = 0\n",
    "\n",
    "data_result = pd.DataFrame(df_x_valid['newID'])\n",
    "data_result = data_result.drop_duplicates()\n",
    "data_result['res'] = 0\n",
    "\n",
    "df_x_train = df_x_train.drop(['blocked'], axis=1)\n",
    "df_x_valid = df_x_valid.drop(['blocked'], axis=1)\n",
    "df_x_train = df_x_train.drop(['newID'], axis=1)\n",
    "df_x_valid = df_x_valid.drop('newID', axis=1)\n",
    "\n",
    "df_x_train.shape, df_x_valid.shape, y_train.shape, y_valid.shape"
   ]
  },
  {
   "cell_type": "code",
   "execution_count": 6,
   "metadata": {},
   "outputs": [],
   "source": [
    "x_train = df_x_train.values\n",
    "x_valid = df_x_valid.values"
   ]
  },
  {
   "cell_type": "code",
   "execution_count": 7,
   "metadata": {},
   "outputs": [],
   "source": [
    "# n_estimators, max_features, max_depth, min_samples_split, min_samples_leaf\n",
    "#model = RandomForestClassifier(random_state=42)\n",
    "#model = RandomForestClassifier(criterion='entropy', n_estimators=10, n_jobs=10, random_state=1)\n",
    "model = RandomForestClassifier(n_estimators=130, n_jobs=10, random_state=123456)\n",
    "\n",
    "model.fit(x_train, y_train)\n",
    "prediction = model.predict(x_valid)"
   ]
  },
  {
   "cell_type": "markdown",
   "metadata": {},
   "source": [
    "# 결과"
   ]
  },
  {
   "cell_type": "code",
   "execution_count": 8,
   "metadata": {},
   "outputs": [
    {
     "name": "stdout",
     "output_type": "stream",
     "text": [
      "Test results:\n",
      "\n",
      "Accuracy Score: 0.8456\n",
      "\n",
      "Classification Report:\n",
      "              precision    recall  f1-score   support\n",
      "\n",
      "           0       0.95      0.65      0.77      8378\n",
      "           1       0.81      0.98      0.88     12502\n",
      "\n",
      "    accuracy                           0.85     20880\n",
      "   macro avg       0.88      0.81      0.83     20880\n",
      "weighted avg       0.86      0.85      0.84     20880\n",
      "\n",
      "\n",
      "Confusion Matrix:\n",
      "[[ 5455  2923]\n",
      " [  301 12201]]\n",
      "\n"
     ]
    }
   ],
   "source": [
    "print(\"Test results:\\n\")\n",
    "print('Accuracy Score: {0:.4f}\\n'.format(accuracy_score(y_valid, model.predict(x_valid))))\n",
    "print('Classification Report:\\n{}\\n'.format(classification_report(y_valid, model.predict(x_valid))))\n",
    "print('Confusion Matrix:\\n{}\\n'.format(confusion_matrix(y_valid, model.predict(x_valid))))"
   ]
  },
  {
   "cell_type": "markdown",
   "metadata": {},
   "source": [
    "# lightGBM"
   ]
  },
  {
   "cell_type": "code",
   "execution_count": 9,
   "metadata": {},
   "outputs": [],
   "source": [
    "train_ds = lgb.Dataset(x_train, label = y_train)\n",
    "test_ds = lgb.Dataset(x_valid, label = y_valid)\n",
    "params = {'learning_rate': 0.01,\n",
    "          'max_depth': 16,\n",
    "          'boosting': 'gbdt',\n",
    "          'objective': 'binary',\n",
    "          'metric': 'binary_logloss',\n",
    "          'is_training_metric': True,\n",
    "          'num_leaves': 144,\n",
    "          'feature_fraction': 0.9,\n",
    "          'bagging_fraction': 0.7,\n",
    "          'bagging_freq': 5,\n",
    "          'seed':2020}"
   ]
  },
  {
   "cell_type": "code",
   "execution_count": 10,
   "metadata": {},
   "outputs": [
    {
     "name": "stdout",
     "output_type": "stream",
     "text": [
      "[LightGBM] [Info] Number of positive: 49958, number of negative: 33561\n",
      "[LightGBM] [Warning] Auto-choosing row-wise multi-threading, the overhead of testing was 0.002265 seconds.\n",
      "You can set `force_row_wise=true` to remove the overhead.\n",
      "And if memory is not enough, you can set `force_col_wise=true`.\n",
      "[LightGBM] [Info] Total Bins 2662\n",
      "[LightGBM] [Info] Number of data points in the train set: 83519, number of used features: 32\n",
      "[LightGBM] [Info] [binary:BoostFromScore]: pavg=0.598163 -> initscore=0.397818\n",
      "[LightGBM] [Info] Start training from score 0.397818\n",
      "Training until validation scores don't improve for 100 rounds\n",
      "[100]\tvalid_0's binary_logloss: 0.445719\n",
      "[200]\tvalid_0's binary_logloss: 0.390722\n",
      "[300]\tvalid_0's binary_logloss: 0.372799\n",
      "[400]\tvalid_0's binary_logloss: 0.365362\n",
      "[500]\tvalid_0's binary_logloss: 0.362302\n",
      "[600]\tvalid_0's binary_logloss: 0.360564\n",
      "[700]\tvalid_0's binary_logloss: 0.359625\n",
      "[800]\tvalid_0's binary_logloss: 0.358915\n",
      "[900]\tvalid_0's binary_logloss: 0.358289\n",
      "[1000]\tvalid_0's binary_logloss: 0.357726\n",
      "Did not meet early stopping. Best iteration is:\n",
      "[999]\tvalid_0's binary_logloss: 0.357719\n"
     ]
    }
   ],
   "source": [
    "model2 = lgb.train(params, train_ds, 1000, test_ds, verbose_eval=100, early_stopping_rounds=100)\n",
    "y_pred=model2.predict(x_valid)"
   ]
  },
  {
   "cell_type": "code",
   "execution_count": 11,
   "metadata": {},
   "outputs": [],
   "source": [
    "from pandas import Series\n",
    "\n",
    "feature_importance = model.feature_importances_\n",
    "Series_feat_imp = Series(feature_importance, index=df_x_valid.columns)"
   ]
  },
  {
   "cell_type": "code",
   "execution_count": 12,
   "metadata": {},
   "outputs": [
    {
     "data": {
      "image/png": "[encoded data removed]",
      "text/plain": [
       "<Figure size 576x576 with 1 Axes>"
      ]
     },
     "metadata": {
      "needs_background": "light"
     },
     "output_type": "display_data"
    }
   ],
   "source": [
    "plt.figure(figsize=(8, 8))\n",
    "Series_feat_imp.sort_values(ascending=True).plot.barh()\n",
    "plt.xlabel('Feature importance')\n",
    "plt.ylabel('Feature')\n",
    "plt.show()"
   ]
  },
  {
   "cell_type": "markdown",
   "metadata": {},
   "source": [
    "# 결과 반영"
   ]
  },
  {
   "cell_type": "markdown",
   "metadata": {},
   "source": [
    "### 테스트 데이터셋 - abusingDetectionTestDataset.csv"
   ]
  },
  {
   "cell_type": "code",
   "execution_count": 13,
   "metadata": {
    "scrolled": true
   },
   "outputs": [],
   "source": [
    "data_result_10['res'] = prediction\n",
    "list_result = np.array(data_result_10)\n",
    "\n",
    "set_result = []\n",
    "for itm in list_result:\n",
    "    if itm[1] == 1:\n",
    "        set_result.append(itm[0])\n",
    "\n",
    "set_result = list(set(set_result))\n",
    "\n",
    "for itm in list_result:\n",
    "    if itm[0] in set_result:\n",
    "        list_result[1] = 1\n",
    "        \n",
    "chk_result = []\n",
    "for itm in list_result:\n",
    "    chk_result.append(itm[1])"
   ]
  },
  {
   "cell_type": "code",
   "execution_count": 14,
   "metadata": {},
   "outputs": [],
   "source": [
    "test_result = pd.DataFrame(df_test['newID'])\n",
    "test_result['res'] = 0\n",
    "\n",
    "df_test = df_test.drop(['newID'], axis=1)\n",
    "\n",
    "X_test = df_test.values\n",
    "prediction = model.predict(X_test)\n",
    "\n",
    "test_result['res'] = prediction\n",
    "list_test_result = np.array(test_result)"
   ]
  },
  {
   "cell_type": "code",
   "execution_count": 15,
   "metadata": {},
   "outputs": [],
   "source": [
    "set_final_result = []\n",
    "for itm in list_test_result:\n",
    "    set_final_result.append(itm[0])\n",
    "set_final_result = list(set(set_final_result))\n",
    "\n",
    "final_result_blocked = np.array([0 for i in range(len(set_final_result))])"
   ]
  },
  {
   "cell_type": "code",
   "execution_count": 16,
   "metadata": {},
   "outputs": [],
   "source": [
    "for itm in list_test_result:\n",
    "    if itm[1] == 1:\n",
    "        final_result_blocked[np.where(set_final_result == itm[0])] = 1\n",
    "\n",
    "final_result = []\n",
    "\n",
    "for _a, _b in zip(set_final_result, final_result_blocked):\n",
    "    final_result.append([_a, _b])"
   ]
  },
  {
   "cell_type": "code",
   "execution_count": 17,
   "metadata": {},
   "outputs": [],
   "source": [
    "with open('./csv/result.csv', 'w', newline='') as file:\n",
    "    writer = csv.writer(file)\n",
    "    writer.writerow(['newID', 'res'])\n",
    "    for i in final_result:\n",
    "        writer.writerow([i[0], i[1]])"
   ]
  },
  {
   "cell_type": "code",
   "execution_count": null,
   "metadata": {},
   "outputs": [],
   "source": []
  }
 ],
 "metadata": {
  "kernelspec": {
   "display_name": "Python 3 (ipykernel)",
   "language": "python",
   "name": "python3"
  },
  "language_info": {
   "codemirror_mode": {
    "name": "ipython",
    "version": 3
   },
   "file_extension": ".py",
   "mimetype": "text/x-python",
   "name": "python",
   "nbconvert_exporter": "python",
   "pygments_lexer": "ipython3",
   "version": "3.9.12"
  }
 },
 "nbformat": 4,
 "nbformat_minor": 4
}
