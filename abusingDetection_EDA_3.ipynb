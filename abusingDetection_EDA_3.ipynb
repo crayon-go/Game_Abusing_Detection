{
 "cells": [
  {
   "cell_type": "code",
   "execution_count": 1,
   "metadata": {},
   "outputs": [],
   "source": [
    "import pandas as pd\n",
    "import numpy as np\n",
    "from scipy import stats\n",
    "from pandas_visual_analysis import VisualAnalysis\n",
    "import matplotlib.pyplot as plt\n",
    "import json\n",
    "from collections import OrderedDict\n",
    "from datetime import date\n",
    "import time\n",
    "import seaborn as sb"
   ]
  },
  {
   "cell_type": "code",
   "execution_count": 2,
   "metadata": {},
   "outputs": [
    {
     "data": {
      "text/plain": [
       "(104399, 44)"
      ]
     },
     "execution_count": 2,
     "metadata": {},
     "output_type": "execute_result"
    }
   ],
   "source": [
    "data = pd.read_csv('./csv/abusingDetectionTrainDataset.csv')\n",
    "data.shape"
   ]
  },
  {
   "cell_type": "code",
   "execution_count": 3,
   "metadata": {},
   "outputs": [
    {
     "data": {
      "text/plain": [
       "(104399, 39)"
      ]
     },
     "execution_count": 3,
     "metadata": {},
     "output_type": "execute_result"
    }
   ],
   "source": [
    "data = data.drop(['socialBooleanB', 'accountMetaAmountA', 'charSessionAmountB', 'tradeSessionAmountC', 'tradeSessionAmountE'], axis=1)\n",
    "data.shape"
   ]
  },
  {
   "cell_type": "code",
   "execution_count": 4,
   "metadata": {},
   "outputs": [
    {
     "data": {
      "text/plain": [
       "Index(['newID', 'char_jobcode', 'char_level', 'logging_timestamp', 'charStatA',\n",
       "       'charStatB', 'charStatC', 'charStatD', 'charStatE', 'charStatF',\n",
       "       'charStatG', 'socialAmountA', 'socialBooleanA', 'socialSessionAmountA',\n",
       "       'activityCumulativeAmountA', 'charSessionAmountA',\n",
       "       'charMoveSessionAmountA', 'charSessionAmountC', 'socialSessionAmountB',\n",
       "       'actionSessionAmountA', 'charSessionAmountD',\n",
       "       'activityCumulativeAmountB', 'actionSessionAmountB',\n",
       "       'actionSessionAmountC', 'actionSessionAmountD', 'actionSessionAmountE',\n",
       "       'tradeSessionAmountA', 'tradeSessionAmountB', 'actionSessionAmountF',\n",
       "       'actionSessionAmountG', 'actionSessionAmountH', 'actionSessionAmountI',\n",
       "       'actionSessionAmountJ', 'actionSessionAmountK', 'actionSessionAmountL',\n",
       "       'actionSessionAmountM', 'actionSessionAmountN', 'tradeSessionAmountD',\n",
       "       'blocked'],\n",
       "      dtype='object')"
      ]
     },
     "execution_count": 4,
     "metadata": {},
     "output_type": "execute_result"
    }
   ],
   "source": [
    "data.columns"
   ]
  },
  {
   "cell_type": "markdown",
   "metadata": {},
   "source": [
    "# logging_timestamp에서 시간단위로 새로운 컬럼 추가"
   ]
  },
  {
   "cell_type": "code",
   "execution_count": 5,
   "metadata": {},
   "outputs": [
    {
     "data": {
      "text/plain": [
       "(104399, 40)"
      ]
     },
     "execution_count": 5,
     "metadata": {},
     "output_type": "execute_result"
    }
   ],
   "source": [
    "data_hour = pd.to_datetime(data['logging_timestamp']).dt.strftime('%H').astype(int)\n",
    "data_hour = data_hour.replace(0, 24)\n",
    "data['date_hout'] = data_hour\n",
    "data.shape"
   ]
  },
  {
   "cell_type": "markdown",
   "metadata": {},
   "source": [
    "# tradeSessionAmount A, B, D  ==> tradeSessionAmount "
   ]
  },
  {
   "cell_type": "code",
   "execution_count": 6,
   "metadata": {},
   "outputs": [
    {
     "data": {
      "text/plain": [
       "(104399, 38)"
      ]
     },
     "execution_count": 6,
     "metadata": {},
     "output_type": "execute_result"
    }
   ],
   "source": [
    "tradeSessionAmount = data['tradeSessionAmountA'] + data['tradeSessionAmountB'] + data['tradeSessionAmountD']\n",
    "data = data.drop(['tradeSessionAmountA', 'tradeSessionAmountB', 'tradeSessionAmountD'], axis=1)\n",
    "data['tradeSessionAmount'] = tradeSessionAmount\n",
    "data.shape"
   ]
  },
  {
   "cell_type": "markdown",
   "metadata": {},
   "source": [
    "# charSessionAmountC, actionSessionAmountM 제거"
   ]
  },
  {
   "cell_type": "code",
   "execution_count": 7,
   "metadata": {},
   "outputs": [
    {
     "data": {
      "text/plain": [
       "(104399, 36)"
      ]
     },
     "execution_count": 7,
     "metadata": {},
     "output_type": "execute_result"
    }
   ],
   "source": [
    "data = data.drop(['charSessionAmountC', 'actionSessionAmountM'], axis=1)\n",
    "data.shape"
   ]
  },
  {
   "cell_type": "markdown",
   "metadata": {},
   "source": [
    "# socialSessionAmountB"
   ]
  },
  {
   "cell_type": "code",
   "execution_count": 8,
   "metadata": {
    "scrolled": true
   },
   "outputs": [],
   "source": [
    "socialSessionAmountB = data['socialSessionAmountB']\n",
    "socialSessionAmountB = [1 if i == 0 else 0 for i in socialSessionAmountB]\n",
    "data = data.drop(['socialSessionAmountB'], axis=1)\n",
    "data['socialSessionAmountB'] = socialSessionAmountB\n"
   ]
  },
  {
   "cell_type": "code",
   "execution_count": 9,
   "metadata": {},
   "outputs": [
    {
     "data": {
      "text/html": [
       "<div>\n",
       "<style scoped>\n",
       "    .dataframe tbody tr th:only-of-type {\n",
       "        vertical-align: middle;\n",
       "    }\n",
       "\n",
       "    .dataframe tbody tr th {\n",
       "        vertical-align: top;\n",
       "    }\n",
       "\n",
       "    .dataframe thead th {\n",
       "        text-align: right;\n",
       "    }\n",
       "</style>\n",
       "<table border=\"1\" class=\"dataframe\">\n",
       "  <thead>\n",
       "    <tr style=\"text-align: right;\">\n",
       "      <th></th>\n",
       "      <th>newID</th>\n",
       "      <th>char_jobcode</th>\n",
       "      <th>char_level</th>\n",
       "      <th>logging_timestamp</th>\n",
       "      <th>charStatA</th>\n",
       "      <th>charStatB</th>\n",
       "      <th>charStatC</th>\n",
       "      <th>charStatD</th>\n",
       "      <th>charStatE</th>\n",
       "      <th>charStatF</th>\n",
       "      <th>...</th>\n",
       "      <th>actionSessionAmountH</th>\n",
       "      <th>actionSessionAmountI</th>\n",
       "      <th>actionSessionAmountJ</th>\n",
       "      <th>actionSessionAmountK</th>\n",
       "      <th>actionSessionAmountL</th>\n",
       "      <th>actionSessionAmountN</th>\n",
       "      <th>blocked</th>\n",
       "      <th>date_hout</th>\n",
       "      <th>tradeSessionAmount</th>\n",
       "      <th>socialSessionAmountB</th>\n",
       "    </tr>\n",
       "  </thead>\n",
       "  <tbody>\n",
       "    <tr>\n",
       "      <th>0</th>\n",
       "      <td>0</td>\n",
       "      <td>0</td>\n",
       "      <td>10</td>\n",
       "      <td>2017-6-26 8:59:4.224398</td>\n",
       "      <td>0</td>\n",
       "      <td>0</td>\n",
       "      <td>0</td>\n",
       "      <td>0</td>\n",
       "      <td>0</td>\n",
       "      <td>0</td>\n",
       "      <td>...</td>\n",
       "      <td>0</td>\n",
       "      <td>0</td>\n",
       "      <td>0</td>\n",
       "      <td>0</td>\n",
       "      <td>2</td>\n",
       "      <td>0</td>\n",
       "      <td>0</td>\n",
       "      <td>8</td>\n",
       "      <td>0</td>\n",
       "      <td>1</td>\n",
       "    </tr>\n",
       "    <tr>\n",
       "      <th>1</th>\n",
       "      <td>0</td>\n",
       "      <td>0</td>\n",
       "      <td>31</td>\n",
       "      <td>2017-6-26 9:29:6.39562</td>\n",
       "      <td>0</td>\n",
       "      <td>0</td>\n",
       "      <td>0</td>\n",
       "      <td>0</td>\n",
       "      <td>2</td>\n",
       "      <td>0</td>\n",
       "      <td>...</td>\n",
       "      <td>0</td>\n",
       "      <td>0</td>\n",
       "      <td>0</td>\n",
       "      <td>2</td>\n",
       "      <td>146</td>\n",
       "      <td>106</td>\n",
       "      <td>0</td>\n",
       "      <td>9</td>\n",
       "      <td>0</td>\n",
       "      <td>1</td>\n",
       "    </tr>\n",
       "    <tr>\n",
       "      <th>2</th>\n",
       "      <td>0</td>\n",
       "      <td>0</td>\n",
       "      <td>40</td>\n",
       "      <td>2017-6-26 9:59:13.175257</td>\n",
       "      <td>0</td>\n",
       "      <td>0</td>\n",
       "      <td>0</td>\n",
       "      <td>0</td>\n",
       "      <td>2</td>\n",
       "      <td>0</td>\n",
       "      <td>...</td>\n",
       "      <td>0</td>\n",
       "      <td>0</td>\n",
       "      <td>0</td>\n",
       "      <td>2</td>\n",
       "      <td>229</td>\n",
       "      <td>172</td>\n",
       "      <td>0</td>\n",
       "      <td>9</td>\n",
       "      <td>0</td>\n",
       "      <td>1</td>\n",
       "    </tr>\n",
       "    <tr>\n",
       "      <th>3</th>\n",
       "      <td>0</td>\n",
       "      <td>0</td>\n",
       "      <td>61</td>\n",
       "      <td>2017-6-26 10:29:13.525274</td>\n",
       "      <td>0</td>\n",
       "      <td>0</td>\n",
       "      <td>0</td>\n",
       "      <td>0</td>\n",
       "      <td>6</td>\n",
       "      <td>0</td>\n",
       "      <td>...</td>\n",
       "      <td>1</td>\n",
       "      <td>2</td>\n",
       "      <td>0</td>\n",
       "      <td>2</td>\n",
       "      <td>583</td>\n",
       "      <td>615</td>\n",
       "      <td>0</td>\n",
       "      <td>10</td>\n",
       "      <td>0</td>\n",
       "      <td>1</td>\n",
       "    </tr>\n",
       "    <tr>\n",
       "      <th>4</th>\n",
       "      <td>0</td>\n",
       "      <td>0</td>\n",
       "      <td>61</td>\n",
       "      <td>2017-6-27 7:51:56.193386</td>\n",
       "      <td>0</td>\n",
       "      <td>0</td>\n",
       "      <td>0</td>\n",
       "      <td>0</td>\n",
       "      <td>6</td>\n",
       "      <td>0</td>\n",
       "      <td>...</td>\n",
       "      <td>0</td>\n",
       "      <td>1</td>\n",
       "      <td>0</td>\n",
       "      <td>17</td>\n",
       "      <td>1</td>\n",
       "      <td>0</td>\n",
       "      <td>0</td>\n",
       "      <td>7</td>\n",
       "      <td>0</td>\n",
       "      <td>1</td>\n",
       "    </tr>\n",
       "    <tr>\n",
       "      <th>...</th>\n",
       "      <td>...</td>\n",
       "      <td>...</td>\n",
       "      <td>...</td>\n",
       "      <td>...</td>\n",
       "      <td>...</td>\n",
       "      <td>...</td>\n",
       "      <td>...</td>\n",
       "      <td>...</td>\n",
       "      <td>...</td>\n",
       "      <td>...</td>\n",
       "      <td>...</td>\n",
       "      <td>...</td>\n",
       "      <td>...</td>\n",
       "      <td>...</td>\n",
       "      <td>...</td>\n",
       "      <td>...</td>\n",
       "      <td>...</td>\n",
       "      <td>...</td>\n",
       "      <td>...</td>\n",
       "      <td>...</td>\n",
       "      <td>...</td>\n",
       "    </tr>\n",
       "    <tr>\n",
       "      <th>104394</th>\n",
       "      <td>14915</td>\n",
       "      <td>120</td>\n",
       "      <td>47</td>\n",
       "      <td>2017-6-19 16:47:28.622771</td>\n",
       "      <td>1</td>\n",
       "      <td>0</td>\n",
       "      <td>4563</td>\n",
       "      <td>0</td>\n",
       "      <td>4575</td>\n",
       "      <td>0</td>\n",
       "      <td>...</td>\n",
       "      <td>0</td>\n",
       "      <td>4</td>\n",
       "      <td>0</td>\n",
       "      <td>0</td>\n",
       "      <td>89</td>\n",
       "      <td>59</td>\n",
       "      <td>0</td>\n",
       "      <td>16</td>\n",
       "      <td>0</td>\n",
       "      <td>1</td>\n",
       "    </tr>\n",
       "    <tr>\n",
       "      <th>104395</th>\n",
       "      <td>14915</td>\n",
       "      <td>132</td>\n",
       "      <td>16</td>\n",
       "      <td>2017-6-19 12:17:5.647646</td>\n",
       "      <td>0</td>\n",
       "      <td>0</td>\n",
       "      <td>4563</td>\n",
       "      <td>0</td>\n",
       "      <td>4563</td>\n",
       "      <td>0</td>\n",
       "      <td>...</td>\n",
       "      <td>0</td>\n",
       "      <td>0</td>\n",
       "      <td>0</td>\n",
       "      <td>0</td>\n",
       "      <td>45</td>\n",
       "      <td>44</td>\n",
       "      <td>0</td>\n",
       "      <td>12</td>\n",
       "      <td>0</td>\n",
       "      <td>1</td>\n",
       "    </tr>\n",
       "    <tr>\n",
       "      <th>104396</th>\n",
       "      <td>14915</td>\n",
       "      <td>132</td>\n",
       "      <td>23</td>\n",
       "      <td>2017-6-19 12:47:8.165005</td>\n",
       "      <td>0</td>\n",
       "      <td>0</td>\n",
       "      <td>4563</td>\n",
       "      <td>0</td>\n",
       "      <td>4565</td>\n",
       "      <td>0</td>\n",
       "      <td>...</td>\n",
       "      <td>0</td>\n",
       "      <td>0</td>\n",
       "      <td>0</td>\n",
       "      <td>0</td>\n",
       "      <td>195</td>\n",
       "      <td>153</td>\n",
       "      <td>0</td>\n",
       "      <td>12</td>\n",
       "      <td>0</td>\n",
       "      <td>1</td>\n",
       "    </tr>\n",
       "    <tr>\n",
       "      <th>104397</th>\n",
       "      <td>14915</td>\n",
       "      <td>132</td>\n",
       "      <td>27</td>\n",
       "      <td>2017-6-19 13:17:9.600144</td>\n",
       "      <td>0</td>\n",
       "      <td>0</td>\n",
       "      <td>4563</td>\n",
       "      <td>0</td>\n",
       "      <td>4565</td>\n",
       "      <td>0</td>\n",
       "      <td>...</td>\n",
       "      <td>0</td>\n",
       "      <td>1</td>\n",
       "      <td>0</td>\n",
       "      <td>0</td>\n",
       "      <td>193</td>\n",
       "      <td>152</td>\n",
       "      <td>0</td>\n",
       "      <td>13</td>\n",
       "      <td>0</td>\n",
       "      <td>1</td>\n",
       "    </tr>\n",
       "    <tr>\n",
       "      <th>104398</th>\n",
       "      <td>14915</td>\n",
       "      <td>132</td>\n",
       "      <td>30</td>\n",
       "      <td>2017-6-19 13:47:11.671623</td>\n",
       "      <td>0</td>\n",
       "      <td>0</td>\n",
       "      <td>4563</td>\n",
       "      <td>0</td>\n",
       "      <td>4569</td>\n",
       "      <td>0</td>\n",
       "      <td>...</td>\n",
       "      <td>0</td>\n",
       "      <td>0</td>\n",
       "      <td>0</td>\n",
       "      <td>0</td>\n",
       "      <td>46</td>\n",
       "      <td>37</td>\n",
       "      <td>0</td>\n",
       "      <td>13</td>\n",
       "      <td>0</td>\n",
       "      <td>1</td>\n",
       "    </tr>\n",
       "  </tbody>\n",
       "</table>\n",
       "<p>104399 rows × 36 columns</p>\n",
       "</div>"
      ],
      "text/plain": [
       "        newID  char_jobcode  char_level          logging_timestamp  charStatA  \\\n",
       "0           0             0          10    2017-6-26 8:59:4.224398          0   \n",
       "1           0             0          31     2017-6-26 9:29:6.39562          0   \n",
       "2           0             0          40   2017-6-26 9:59:13.175257          0   \n",
       "3           0             0          61  2017-6-26 10:29:13.525274          0   \n",
       "4           0             0          61   2017-6-27 7:51:56.193386          0   \n",
       "...       ...           ...         ...                        ...        ...   \n",
       "104394  14915           120          47  2017-6-19 16:47:28.622771          1   \n",
       "104395  14915           132          16   2017-6-19 12:17:5.647646          0   \n",
       "104396  14915           132          23   2017-6-19 12:47:8.165005          0   \n",
       "104397  14915           132          27   2017-6-19 13:17:9.600144          0   \n",
       "104398  14915           132          30  2017-6-19 13:47:11.671623          0   \n",
       "\n",
       "        charStatB  charStatC  charStatD  charStatE  charStatF  ...  \\\n",
       "0               0          0          0          0          0  ...   \n",
       "1               0          0          0          2          0  ...   \n",
       "2               0          0          0          2          0  ...   \n",
       "3               0          0          0          6          0  ...   \n",
       "4               0          0          0          6          0  ...   \n",
       "...           ...        ...        ...        ...        ...  ...   \n",
       "104394          0       4563          0       4575          0  ...   \n",
       "104395          0       4563          0       4563          0  ...   \n",
       "104396          0       4563          0       4565          0  ...   \n",
       "104397          0       4563          0       4565          0  ...   \n",
       "104398          0       4563          0       4569          0  ...   \n",
       "\n",
       "        actionSessionAmountH  actionSessionAmountI  actionSessionAmountJ  \\\n",
       "0                          0                     0                     0   \n",
       "1                          0                     0                     0   \n",
       "2                          0                     0                     0   \n",
       "3                          1                     2                     0   \n",
       "4                          0                     1                     0   \n",
       "...                      ...                   ...                   ...   \n",
       "104394                     0                     4                     0   \n",
       "104395                     0                     0                     0   \n",
       "104396                     0                     0                     0   \n",
       "104397                     0                     1                     0   \n",
       "104398                     0                     0                     0   \n",
       "\n",
       "        actionSessionAmountK  actionSessionAmountL  actionSessionAmountN  \\\n",
       "0                          0                     2                     0   \n",
       "1                          2                   146                   106   \n",
       "2                          2                   229                   172   \n",
       "3                          2                   583                   615   \n",
       "4                         17                     1                     0   \n",
       "...                      ...                   ...                   ...   \n",
       "104394                     0                    89                    59   \n",
       "104395                     0                    45                    44   \n",
       "104396                     0                   195                   153   \n",
       "104397                     0                   193                   152   \n",
       "104398                     0                    46                    37   \n",
       "\n",
       "        blocked  date_hout  tradeSessionAmount  socialSessionAmountB  \n",
       "0             0          8                   0                     1  \n",
       "1             0          9                   0                     1  \n",
       "2             0          9                   0                     1  \n",
       "3             0         10                   0                     1  \n",
       "4             0          7                   0                     1  \n",
       "...         ...        ...                 ...                   ...  \n",
       "104394        0         16                   0                     1  \n",
       "104395        0         12                   0                     1  \n",
       "104396        0         12                   0                     1  \n",
       "104397        0         13                   0                     1  \n",
       "104398        0         13                   0                     1  \n",
       "\n",
       "[104399 rows x 36 columns]"
      ]
     },
     "execution_count": 9,
     "metadata": {},
     "output_type": "execute_result"
    }
   ],
   "source": [
    "data"
   ]
  },
  {
   "cell_type": "code",
   "execution_count": null,
   "metadata": {},
   "outputs": [],
   "source": []
  },
  {
   "cell_type": "code",
   "execution_count": null,
   "metadata": {},
   "outputs": [],
   "source": []
  },
  {
   "cell_type": "code",
   "execution_count": null,
   "metadata": {},
   "outputs": [],
   "source": []
  },
  {
   "cell_type": "code",
   "execution_count": null,
   "metadata": {},
   "outputs": [],
   "source": []
  },
  {
   "cell_type": "code",
   "execution_count": null,
   "metadata": {},
   "outputs": [],
   "source": []
  }
 ],
 "metadata": {
  "kernelspec": {
   "display_name": "Python 3",
   "language": "python",
   "name": "python3"
  },
  "language_info": {
   "codemirror_mode": {
    "name": "ipython",
    "version": 3
   },
   "file_extension": ".py",
   "mimetype": "text/x-python",
   "name": "python",
   "nbconvert_exporter": "python",
   "pygments_lexer": "ipython3",
   "version": "3.8.5"
  }
 },
 "nbformat": 4,
 "nbformat_minor": 4
}
